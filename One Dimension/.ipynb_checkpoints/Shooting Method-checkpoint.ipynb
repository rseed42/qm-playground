{
 "cells": [
  {
   "cell_type": "markdown",
   "id": "44c6d452",
   "metadata": {},
   "source": [
    "# Quantum Harmonic Oscillator"
   ]
  },
  {
   "cell_type": "markdown",
   "id": "cfaae7a1",
   "metadata": {},
   "source": [
    "$$ V\\left(x\\right) = \\frac{1}{2} m_e \\omega^2 x^2 $$"
   ]
  },
  {
   "cell_type": "markdown",
   "id": "43b7d263",
   "metadata": {},
   "source": [
    "We use values $m_e = 1$, $\\hbar = 1$, and $\\omega = 1$"
   ]
  },
  {
   "cell_type": "markdown",
   "id": "fc80df3e",
   "metadata": {},
   "source": [
    "Using the bisecting shooting method"
   ]
  },
  {
   "cell_type": "code",
   "execution_count": null,
   "id": "9dad34f4",
   "metadata": {},
   "outputs": [],
   "source": []
  }
 ],
 "metadata": {
  "kernelspec": {
   "display_name": "Python 3 (ipykernel)",
   "language": "python",
   "name": "python3"
  },
  "language_info": {
   "codemirror_mode": {
    "name": "ipython",
    "version": 3
   },
   "file_extension": ".py",
   "mimetype": "text/x-python",
   "name": "python",
   "nbconvert_exporter": "python",
   "pygments_lexer": "ipython3",
   "version": "3.8.10"
  }
 },
 "nbformat": 4,
 "nbformat_minor": 5
}
